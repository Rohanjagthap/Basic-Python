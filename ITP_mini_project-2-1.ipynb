{
 "cells": [
  {
   "cell_type": "markdown",
   "metadata": {},
   "source": [
    "# <center>PGP Data Science Engineering</center>\n",
    "## <center>Introduction to Programming – Mini Project:</center>\n"
   ]
  },
  {
   "cell_type": "markdown",
   "metadata": {},
   "source": [
    "### Problem 1:\n",
    "\n",
    "1. Write a program to calculate area of shapes. Your program should be capable of calculating the area of a square, rectangle, triangle and a circle. The user should be presented with options to select the shape. Based on which shape is chosed by the user, the program should ask for the appropriate input and print the resulting area on the screen.\n",
    "\n",
    "When the program is run, the screen should display something like this:\n",
    "\n",
    "**Which shape would you like to calculate the area for? Please enter the option number-**<br>\n",
    "**1. Square**<br>\n",
    "**2. Rectangle**<br>\n",
    "**3. Triangle**<br>\n",
    "**4. Circle**<br>\n",
    "**Enter Option: _**\n",
    "\n",
    "Say the user enters the option 1.\n",
    "\n",
    "**Please enter the length of a side: _**\n",
    "\n",
    "If the user enters a value of 5. The output should be:\n",
    "\n",
    "**The area of the square is 25**\n",
    "\n",
    "This program should indicate that the input is invalid if the user enters a character instead of a number as input. For instance if the user enters a value of ‘a’ instead of 5 in the previous example the program should prompt:\n",
    "\n",
    "**Invalid input, please enter a number: _**\n"
   ]
  },
  {
   "cell_type": "code",
   "execution_count": 3,
   "metadata": {},
   "outputs": [
    {
     "name": "stdout",
     "output_type": "stream",
     "text": [
      "Which shape would you like to calculate the area for? Please enter the option number:\n",
      "1.Square\n",
      "2.Rectangle\n",
      "3.Triangle\n",
      "4.Circle\n",
      "Enter Option:-2\n",
      "Please enter Length:34\n",
      "Please enter breadth:45\n",
      "Area of Rectangle is: 1530.0\n"
     ]
    }
   ],
   "source": [
    "i=0\n",
    "print('''Which shape would you like to calculate the area for? Please enter the option number:\n",
    "1.Square\n",
    "2.Rectangle\n",
    "3.Triangle\n",
    "4.Circle''')\n",
    "var=input('Enter Option:-')\n",
    "if(var=='1'):\n",
    "    while(True):\n",
    "        side=input('Please enter the length of a side:')\n",
    "        if (side.isdigit()):\n",
    "            area=float(side)**2\n",
    "            print('Area of Square is:',area)\n",
    "            break\n",
    "        else:\n",
    "            print('invalid input,please enter a valid input')\n",
    "                \n",
    "elif(var=='2'):\n",
    "    while(True):\n",
    "        length=input('Please enter Length:')\n",
    "        if (length.isdigit()):\n",
    "            break\n",
    "        else:\n",
    "            print('invalid input,please enter a valid input')\n",
    "                \n",
    "    while(True):\n",
    "        breadth=input('Please enter breadth:')\n",
    "        if (breadth.isdigit()):\n",
    "            break\n",
    "        else:\n",
    "            print('invalid input,please enter a valid input')\n",
    "                \n",
    "    area1=float(length)*float(breadth)\n",
    "    print('Area of Rectangle is:',area1)\n",
    "        \n",
    "elif(var=='3'):\n",
    "    while(True):\n",
    "        base=input('Enter base length of the triangle:')\n",
    "        if (base.isdigit()):\n",
    "            break\n",
    "        else:\n",
    "            print('invalid input,please enter a valid input')\n",
    "            \n",
    "    while(True):\n",
    "        height=input('Enter height of the triangle:')\n",
    "        if (height.isdigit()):\n",
    "            break\n",
    "        else:\n",
    "            print('invalid input,please enter a valid input')\n",
    "            \n",
    "        area2=(1/2)*float(base)*float(height)\n",
    "        print('Area of triangle is',area2)\n",
    "        \n",
    "elif(var=='4'):\n",
    "    pi=3.14\n",
    "    while(True):\n",
    "        radius=input('Enter radius of the circle:')\n",
    "        if (radius.isdigit()):\n",
    "            break\n",
    "        else:\n",
    "            print('invalid input,please enter a valid input')\n",
    "            \n",
    "        area3=pi*(float(radius)**2)\n",
    "        print('Area of circle is',area3)\n",
    "else:\n",
    "    i=1\n",
    "    print('The entered input is invalid, please enter a valid selection')\n",
    "    "
   ]
  },
  {
   "cell_type": "markdown",
   "metadata": {},
   "source": [
    "### Problem 2:\n",
    "\n",
    "Create an encrypter in python based on the ceaser cipher. It is a substitution cipher where each character of the original text is shifted a certain number characters in the alphabet. Write a function that would require 2 arguments – the input text to be encrypted and a key. For eg: Given the input text ‘hello’ and the key 3, the resulting encryted text would be ‘khoor’. Here you can see that every character in the string hello is shifted by 3 characters. ‘h’ has shifted to ‘k’, ‘e’ has shifted to ‘h’ and so on. If a key of 5 were used, the resulting string would be ‘mjqqt’. This function should be capable of ignoring any characters which are not alphabets. Th2 character ‘z’ entered b\n",
    "y the user for a key of 3 would result in ‘c’.\n",
    "\n",
    "Usage:<br>\n",
    "**encrypt(‘hello world!’, 3)**<br>\n",
    "**‘khoor zruog!’**\n",
    "\n",
    "Similarly create decrypter which can decode the encryted text when provided the input text and key\n",
    "\n",
    "Usage:<br>\n",
    "**decrypt(‘khoor zruog!’, 3)**<br>\n",
    "**‘hello world!’**\n",
    "\n",
    "For the sake of simplicity you can assume that input solely consists of lowercase alphabets, spaces and punctuation symbols. Numbers in the input text would also be ignored similar to symbols."
   ]
  },
  {
   "cell_type": "code",
   "execution_count": 7,
   "metadata": {},
   "outputs": [],
   "source": [
    "dict1={'a':1,'b':2,'c':3,'d':4,'e':5,'f':6,'g':7,'h':8,'i':9,'j':10,'k':11,'l':12,'m':13,'n':14,'o':15,'p':16,'q':17,'r':18,'s':19,'t':20,'u':21,'v':22,'w':23,'x':24,'y':25,'z':26}\n",
    "dict2={'A':1,'B':2,'C':3,'D':4,'E':5,'F':6,'G':7,'H':8,'I':9,'J':10,'K':11,'L':12,'M':13,'N':14,'O':15,'P':16,'Q':17,'R':18,'S':19,'T':20,'U':21,'V':22,'W':23,'X':24,'Y':25,'Z':26}\n",
    "def ceaser(text,key):\n",
    "    text2=''\n",
    "    for i in text:\n",
    "        if i in dict1:\n",
    "            num=dict1.get(i)\n",
    "            num2=num+key\n",
    "            if (num2>26):\n",
    "                num2=num2-26\n",
    "            for j in dict1:\n",
    "                if dict1[j]==num2:\n",
    "                    text2=text2+j\n",
    "        elif i in dict2:\n",
    "            num4=dict2.get(i)\n",
    "            num3=num4+key\n",
    "            if (num3>26):\n",
    "                num3=num3-26\n",
    "            for j in dict2:\n",
    "                if dict2[j]==num3:\n",
    "                    text2=text2+j\n",
    "        elif i==0:\n",
    "            text2=text2+' '\n",
    "        else:\n",
    "            text2=text2+i\n",
    "    print(text2)"
   ]
  },
  {
   "cell_type": "code",
   "execution_count": 11,
   "metadata": {},
   "outputs": [
    {
     "name": "stdout",
     "output_type": "stream",
     "text": [
      "Enter a string to be ciphered:rohan2311!\n",
      "Enter the no.of shifts:2\n",
      "tqjcp2311!\n"
     ]
    }
   ],
   "source": [
    "string1=input('Enter a string to be ciphered:')\n",
    "key=int(input('Enter the no.of shifts:'))\n",
    "ceaser(string1,key)"
   ]
  },
  {
   "cell_type": "code",
   "execution_count": 12,
   "metadata": {},
   "outputs": [],
   "source": [
    "def decipher(text,key):\n",
    "    text5=''\n",
    "    for i in text:\n",
    "        if i in dict1:\n",
    "            num1=dict1.get(i)\n",
    "            num5=num1-key\n",
    "            if (num5<0):\n",
    "                num5=num5+26\n",
    "            for j in dict1:\n",
    "                if dict1[j]==num5:\n",
    "                    text5=text5+j\n",
    "        elif i in dict2:\n",
    "            num6=dict2.get(i)\n",
    "            num7=num6-key\n",
    "            if (num7<0):\n",
    "                num7=num7+26\n",
    "            for j in dict2:\n",
    "                if dict2[j]==num7:\n",
    "                    text5=text5+j\n",
    "        elif i==' ':\n",
    "            text5=text5+' '\n",
    "        else:\n",
    "            text5=text5+i\n",
    "    print(text5)"
   ]
  },
  {
   "cell_type": "code",
   "execution_count": 16,
   "metadata": {},
   "outputs": [
    {
     "name": "stdout",
     "output_type": "stream",
     "text": [
      "Enter a string to be de-ciphered:rohssvs !!!!345\n",
      "Enter the no.of shifts:5\n",
      "mjcnnqn !!!!345\n"
     ]
    }
   ],
   "source": [
    "string2=input('Enter a string to be de-ciphered:')\n",
    "key2=int(input('Enter the no.of shifts:'))\n",
    "decipher(string2,key2)"
   ]
  },
  {
   "cell_type": "code",
   "execution_count": 15,
   "metadata": {},
   "outputs": [
    {
     "name": "stdout",
     "output_type": "stream",
     "text": [
      "Enter a string to be ciphered:11\n",
      "Enter the no.of shifts:2\n",
      "11\n"
     ]
    }
   ],
   "source": [
    "string1=input('Enter a string to be ciphered:')\n",
    "key=int(input('Enter the no.of shifts:'))\n",
    "ceaser(string1,key)"
   ]
  },
  {
   "cell_type": "code",
   "execution_count": 33,
   "metadata": {},
   "outputs": [
    {
     "name": "stdout",
     "output_type": "stream",
     "text": [
      "Enter a string to be de-ciphered:VSLER OYQEV\n",
      "Enter the no.of shifts:4\n",
      "ROHAN KUMAR\n"
     ]
    }
   ],
   "source": [
    "string2=input('Enter a string to be de-ciphered:')\n",
    "key2=int(input('Enter the no.of shifts:'))\n",
    "decipher(string2,key2)"
   ]
  }
 ],
 "metadata": {
  "kernelspec": {
   "display_name": "Python 3",
   "language": "python",
   "name": "python3"
  },
  "language_info": {
   "codemirror_mode": {
    "name": "ipython",
    "version": 3
   },
   "file_extension": ".py",
   "mimetype": "text/x-python",
   "name": "python",
   "nbconvert_exporter": "python",
   "pygments_lexer": "ipython3",
   "version": "3.8.3"
  }
 },
 "nbformat": 4,
 "nbformat_minor": 2
}
